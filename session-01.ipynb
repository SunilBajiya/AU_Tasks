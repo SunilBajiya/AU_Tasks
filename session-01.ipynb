{
 "cells": [
  {
   "cell_type": "code",
   "execution_count": 1,
   "id": "5186fb98-896f-4eb3-9d99-6b5f92a4af28",
   "metadata": {},
   "outputs": [
    {
     "data": {
      "text/plain": [
       "'### Q10:- Given the height, width and breadth of a milk tank, you have to find out how many glasses of milk can be obtained? Assume all the inputs are provided by the user.\\n\\n\\n\\nInput:<br>\\nDimensions of the milk tank<br>\\nH = 20cm, L = 20cm, B = 20cm\\n<br><br>\\nDimensions of the glass<br>\\nh = 3cm, r = 1cm\\n'"
      ]
     },
     "execution_count": 1,
     "metadata": {},
     "output_type": "execute_result"
    }
   ],
   "source": [
    "\n",
    "\"\"\"\n",
    "\n",
    "# Write your code here\n",
    "\n",
    "\"\"\"### Q2:- Write a program that will convert celsius value to fahrenheit.\"\"\"\n",
    "\n",
    "# Write your code here\n",
    "\n",
    "\"\"\"### Q3:- Take 2 numbers as input from the user.Write a program to swap the numbers without using any special python syntax.\"\"\"\n",
    "\n",
    "# Write your code here\n",
    "\n",
    "\"\"\"### Q4:- Write a program to find the euclidean distance between two coordinates.Take both the coordinates from the user as input.\"\"\"\n",
    "\n",
    "# Write your code here\n",
    "\n",
    "\"\"\"### Q5:- Write a program to find the simple interest when the value of principle,rate of interest and time period is provided by the user.\n",
    "\n",
    "\"\"\"\n",
    "\n",
    "# Write your code here\n",
    "\n",
    "\"\"\"### Q6:- Write a program that will tell the number of dogs and chicken are there when the user will provide the value of total heads and legs.\n",
    "\n",
    "For example:\n",
    "Input:\n",
    "heads -> 4\n",
    "legs -> 12\n",
    "<br>\n",
    "Output:\n",
    "dogs -> 2\n",
    "chicken -> 2\n",
    "\"\"\"\n",
    "# Write your code here\n",
    "\n",
    "\"\"\"### Q7:- Write a program to find the sum of squares of first n natural numbers where n will be provided by the user.\"\"\"\n",
    "\n",
    "# Write your code here\n",
    "\n",
    "\"\"\"### Q8:- Given the first 2 terms of an Arithmetic Series.Find the Nth term of the series. Assume all inputs are provided by the user.\"\"\"\n",
    "\n",
    "# Write your code here\n",
    "\n",
    "\"\"\"### Q9:- Given 2 fractions, find the sum of those 2 fractions.Take the numerator and denominator values of the fractions from the user.\"\"\"\n",
    "\n",
    "# Write your code here\n",
    "\n",
    "\"\"\"### Q10:- Given the height, width and breadth of a milk tank, you have to find out how many glasses of milk can be obtained? Assume all the inputs are provided by the user.\n",
    "\n",
    "\n",
    "\n",
    "Input:<br>\n",
    "Dimensions of the milk tank<br>\n",
    "H = 20cm, L = 20cm, B = 20cm\n",
    "<br><br>\n",
    "Dimensions of the glass<br>\n",
    "h = 3cm, r = 1cm\n",
    "\"\"\"\n",
    "\n",
    "# Write your code here"
   ]
  },
  {
   "cell_type": "code",
   "execution_count": 25,
   "id": "c909f624-ce25-4d11-aad0-77923d143604",
   "metadata": {},
   "outputs": [
    {
     "name": "stdin",
     "output_type": "stream",
     "text": [
      "enter the celsius tempurature 12\n"
     ]
    },
    {
     "name": "stdout",
     "output_type": "stream",
     "text": [
      "Fahrenheit_Temp is  53.6\n"
     ]
    }
   ],
   "source": [
    "# Question-1 Write a program that will convert celsius value to fahrenheit\n",
    "celsius_temp=int(input(\"enter the celsius tempurature\"))\n",
    "Fahrenheit_Temp = (celsius_temp *9/5)+32\n",
    "print(\"Fahrenheit_Temp is \",Fahrenheit_Temp)"
   ]
  },
  {
   "cell_type": "code",
   "execution_count": null,
   "id": "f2794b65-fcec-4146-bed8-a5d3e3e9a04a",
   "metadata": {},
   "outputs": [],
   "source": [
    "#Take 2 numbers as input from the user.Write a program to swap the numbers without using any special python syntax.\"\"\"\n",
    "\n",
    "number_a = int(input(\"enter the first number\"))\n",
    "number_b = int(input(\"enter the second number\"))\n",
    "print(\"without swaping the  number is \",number_a,number_b)\n",
    "number_a,number_b=number_b,number_a # first methods\n",
    "print(\"After swaping the  number is \",number_a,number_b)\n",
    "\n",
    "\n",
    "# \"\"\" this is the second method to swap the numbers without using the thrid varible \n",
    "# a=a+b\n",
    "# b=a-b\n",
    "# a=a-b \n",
    "\n",
    "# This is third method to swap the number without using the thrid varible\n",
    "# a=a^b\n",
    "# b=a^b\n",
    "# a=a^b\n",
    "\n",
    "\n",
    "\n",
    "\n",
    "\n"
   ]
  },
  {
   "cell_type": "code",
   "execution_count": null,
   "id": "79f7f43c-a31d-4a26-be08-7a120226e46c",
   "metadata": {},
   "outputs": [],
   "source": [
    "# Write your code here\n",
    "\n",
    "\"\"\"### Q4:- Write a program to find the euclidean distance between two coordinates.Take both the coordinates from the user as input.\"\"\"\n",
    "distance_x1= int(input(\"enter the distance first\"))\n",
    "distance_y1= int(input(\"enter the distance second\"))\n",
    "distance_x2= int(input(\"enter the distance third\"))\n",
    "distance_y2= int(input(\"enter the distance forth\"))\n",
    "\n",
    "euclidean_distance=( (distance_x2-distance_x1)*2+(distance_y2-distance_y1)*2)*1/2\n",
    "print(\"euclidean_distance  is :-\",euclidean_distance)"
   ]
  },
  {
   "cell_type": "code",
   "execution_count": 4,
   "id": "8474d982-2b82-4778-82f6-2fa387b5b77d",
   "metadata": {},
   "outputs": [
    {
     "name": "stdin",
     "output_type": "stream",
     "text": [
      "enter the principle  20\n",
      "enter the rate  2\n",
      "enter the time duration 3\n"
     ]
    },
    {
     "name": "stdout",
     "output_type": "stream",
     "text": [
      "simple Interest 1.2\n"
     ]
    }
   ],
   "source": [
    "# Write your code here\n",
    "\n",
    "\"\"\"### Q5:- Write a program to find the simple interest when the value of principle,rate of interest and time period is provided by the user.\"\"\"\n",
    "principle=int(input(\"enter the principle \"))\n",
    "rate= int(input(\"enter the rate \"))\n",
    "time= int(input(\"enter the time duration\"))\n",
    "simple_interest = (principle*rate*time)/100\n",
    "# principle= (100*simple_interest)/rate*time\n",
    "#rate = (100*simple_interest)/principle*time\n",
    "\n",
    "\n",
    "print(\"simple Interest\" ,simple_interest)"
   ]
  },
  {
   "cell_type": "code",
   "execution_count": 8,
   "id": "78bb1d9a-873b-4b93-b78a-87f5cb0c121b",
   "metadata": {},
   "outputs": [
    {
     "name": "stdin",
     "output_type": "stream",
     "text": [
      "enter the total number of head 4\n",
      "enter the total number of legs 12\n"
     ]
    },
    {
     "name": "stdout",
     "output_type": "stream",
     "text": [
      "input error of number legs not valid\n"
     ]
    }
   ],
   "source": [
    "# Write your code here\n",
    "\n",
    "\"\"\"### Q6:- Write a program that will tell the number of dogs and chicken are there when the user will provide the value of total heads and legs.\n",
    "\n",
    "For example:\n",
    "Input:\n",
    "heads -> 4\n",
    "legs -> 12\n",
    "<br>\n",
    "Output:\n",
    "dogs -> 2\n",
    "chicken -> 2\n",
    "\n",
    "\"\"\"\n",
    "\n",
    "total_head =int(input(\"enter the total number of head\"))\n",
    "total_legs= int(input(\"enter the total number of legs\"))\n",
    "\n",
    "\n",
    "if(total_legs>=4 and total_head == total_head*4 ):  \n",
    "    print(\"Total head is equal to the total dogs\",total_head)\n",
    "    if(total_legs%2==0):\n",
    "        print(\"total dogs\",total_legs//4)\n",
    "    else:\n",
    "        print(\"input legs is not valid for the animals please write the legs in even number\")\n",
    "else:\n",
    "    print(\"input error of number legs not valid\")\n",
    "\n"
   ]
  },
  {
   "cell_type": "code",
   "execution_count": 32,
   "id": "501bfbd1-bd8a-4dee-9f3c-ee19200edd46",
   "metadata": {},
   "outputs": [
    {
     "name": "stdin",
     "output_type": "stream",
     "text": [
      "enter the number of heads 4\n",
      "enter the number of legs 12\n"
     ]
    },
    {
     "name": "stdout",
     "output_type": "stream",
     "text": [
      "not valid input\n"
     ]
    }
   ],
   "source": [
    "\"\"\"### Q6:- Write a program that will tell the number of dogs and chicken are there when the user will provide the value of total heads and legs.\n",
    "\n",
    "For example:\n",
    "Input:\n",
    "heads -> 4\n",
    "legs -> 12\n",
    "<br>\n",
    "Output:\n",
    "dogs -> 2\n",
    "chicken -> 2\n",
    "\n",
    "\"\"\"\n",
    "\n",
    "\n",
    "heads=int(input(\"enter the number of heads\"))\n",
    "legs= int(input(\"enter the number of legs\"))\n",
    "for chickens in range(heads+1):\n",
    "    Dog= heads-chickens\n",
    "    total_legs = 2 * chickens + 4 * Dog\n",
    "    if total_legs==legs:\n",
    "        print(\"dogsis\",Dog,\"chickens\",chickens)\n",
    "        break\n",
    "else:\n",
    "   print(\"not valid input\")\n",
    "\n"
   ]
  },
  {
   "cell_type": "code",
   "execution_count": 31,
   "id": "a902379e-0080-484b-a6b3-2abde0eab42f",
   "metadata": {},
   "outputs": [
    {
     "name": "stdin",
     "output_type": "stream",
     "text": [
      "Enter the number of heads:  4\n",
      "Enter the number of legs:  12\n"
     ]
    },
    {
     "name": "stdout",
     "output_type": "stream",
     "text": [
      "dogs -> 2\n",
      "chicken -> 2\n"
     ]
    }
   ],
   "source": [
    "heads = int(input(\"Enter the number of heads: \"))\n",
    "legs = int(input(\"Enter the number of legs: \"))\n",
    "\n",
    "for chickens in range(heads + 1):\n",
    "    dogs = heads - chickens\n",
    "    total_legs = 2 * chickens + 4 * dogs\n",
    "    if total_legs == legs:\n",
    "        print(\"dogs ->\", dogs)\n",
    "        print(\"chicken ->\", chickens)\n",
    "        break\n",
    "else:\n",
    "    print(\"No valid solution found.\")\n",
    "\n",
    "# Optional final print (if you want to show again):\n",
    "# print(\"The number of dogs is\", dogs, \"and chickens is\", chickens)\n"
   ]
  },
  {
   "cell_type": "code",
   "execution_count": 13,
   "id": "4e7e34b7-e843-4d26-bf05-7c63e2c6e45e",
   "metadata": {},
   "outputs": [
    {
     "name": "stdin",
     "output_type": "stream",
     "text": [
      "enter the number  10\n"
     ]
    },
    {
     "name": "stdout",
     "output_type": "stream",
     "text": [
      "1\n",
      "4\n",
      "9\n",
      "16\n",
      "25\n",
      "36\n",
      "49\n",
      "64\n",
      "81\n",
      "100\n"
     ]
    }
   ],
   "source": [
    "\n",
    "# Write your code here\n",
    "\n",
    "\"\"\"### Q7:- Write a program to find the sum of squares of first n natural numbers where n will be provided by the user.\"\"\"\n",
    "\n",
    "num= int(input(\"enter the number \"))\n",
    "for i in range(1,num+1):\n",
    "    print(i*i)"
   ]
  },
  {
   "cell_type": "code",
   "execution_count": 19,
   "id": "4d353c74-7204-4af2-b832-98a2e37e995c",
   "metadata": {},
   "outputs": [
    {
     "name": "stdin",
     "output_type": "stream",
     "text": [
      "enter the number first 4\n",
      "enter the number second 8\n",
      "enter the NthTerm 6\n"
     ]
    },
    {
     "name": "stdout",
     "output_type": "stream",
     "text": [
      "24\n"
     ]
    }
   ],
   "source": [
    "\"\"\"### Q8:- Given the first 2 terms of an Arithmetic Series.Find the Nth term of the series. Assume all inputs are provided by the user.\"\"\"\n",
    "\n",
    "# Write your code here\n",
    "num1= int(input(\"enter the number first\"))\n",
    "num2= int(input(\"enter the number second\"))\n",
    "NthTerm=int(input(\"enter the NthTerm\"))\n",
    "d=num2-num1\n",
    "\n",
    "Arithmetic_series=num1+(NthTerm-1)*d\n",
    "print(Arithmetic_series)"
   ]
  },
  {
   "cell_type": "code",
   "execution_count": 22,
   "id": "5e2b397e-781b-45ab-a3b4-a1a2ac77b0b5",
   "metadata": {},
   "outputs": [
    {
     "name": "stdin",
     "output_type": "stream",
     "text": [
      "enter the value 1\n",
      "enter the value 2\n",
      "enter the value 2\n",
      "enter the value 1\n"
     ]
    },
    {
     "name": "stdout",
     "output_type": "stream",
     "text": [
      "sumsNumber 2\n"
     ]
    }
   ],
   "source": [
    "\"\"\"### Q9:- Given 2 fractions, find the sum of those 2 fractions.Take the numerator and denominator values of the fractions from the user.\"\"\"\n",
    "\n",
    "# Write your code here\n",
    "a1=int(input(\"enter the value\"))\n",
    "a2= int(input(\"enter the value\"))\n",
    "a3= int(input(\"enter the value\"))\n",
    "a4= int(input(\"enter the value\"))\n",
    "sumsNumber=(a1/a2)+(a3/a4)\n",
    "print(\"sumsNumber\",sumsNumber)\n",
    "\n"
   ]
  },
  {
   "cell_type": "code",
   "execution_count": null,
   "id": "bc707843-e272-4f08-ad93-d3215b9644c9",
   "metadata": {},
   "outputs": [],
   "source": []
  },
  {
   "cell_type": "code",
   "execution_count": null,
   "id": "ea76a3b6-e12d-4267-b4f2-ea0672030b57",
   "metadata": {},
   "outputs": [],
   "source": []
  },
  {
   "cell_type": "code",
   "execution_count": 24,
   "id": "ebb754e5-65bb-4a0d-8c6d-7da6d65514fd",
   "metadata": {},
   "outputs": [
    {
     "name": "stdin",
     "output_type": "stream",
     "text": [
      "enter the  height of the Tank 20\n",
      "enter the  height of the Tank 20\n",
      "enter the  height of the Tank 20\n",
      "enter the  height of the Glass 3\n",
      "enter the  Radius of the Glass 1\n"
     ]
    },
    {
     "name": "stdout",
     "output_type": "stream",
     "text": [
      "total Glass : 849.0\n"
     ]
    }
   ],
   "source": [
    "# Write your code here\n",
    "\n",
    "\"\"\"### Q10:- Given the height, width and breadth of a milk tank, you have to find out \n",
    "how many glasses of milk can be obtained? Assume all the inputs are provided by the user.\n",
    "\n",
    "\n",
    "\n",
    "Input:<br>\n",
    "Dimensions of the milk tank<br>\n",
    "H = 20cm, L = 20cm, B = 20cm\n",
    "<br><br>\n",
    "Dimensions of the glass<br>\n",
    "h = 3cm, r = 1cm\n",
    "\"\"\"\n",
    "Tank_height=int(input(\"enter the  height of the Tank\"))\n",
    "Tank_width=int(input(\"enter the  height of the Tank\"))\n",
    "Tank_breadth=int(input(\"enter the  height of the Tank\"))\n",
    "\n",
    "Volume_Tank=Tank_height*Tank_width*Tank_breadth\n",
    "\n",
    "Glass_height=int(input(\"enter the  height of the Glass\"))\n",
    "Glass_Radius=int(input(\"enter the  Radius of the Glass\"))\n",
    "\n",
    "Glass_Volum=3.14*Glass_Radius*Glass_height\n",
    "\n",
    "total_Glass=Volume_Tank//Glass_Volum\n",
    "print(\"total Glass :\",total_Glass)"
   ]
  },
  {
   "cell_type": "code",
   "execution_count": null,
   "id": "0c61b784-a337-4bd5-91b6-71beff7ce856",
   "metadata": {},
   "outputs": [],
   "source": []
  }
 ],
 "metadata": {
  "kernelspec": {
   "display_name": "Python 3 (ipykernel)",
   "language": "python",
   "name": "python3"
  },
  "language_info": {
   "codemirror_mode": {
    "name": "ipython",
    "version": 3
   },
   "file_extension": ".py",
   "mimetype": "text/x-python",
   "name": "python",
   "nbconvert_exporter": "python",
   "pygments_lexer": "ipython3",
   "version": "3.12.5"
  }
 },
 "nbformat": 4,
 "nbformat_minor": 5
}
